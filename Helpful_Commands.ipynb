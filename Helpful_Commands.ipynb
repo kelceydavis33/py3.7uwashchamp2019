{
 "cells": [
  {
   "cell_type": "markdown",
   "metadata": {},
   "source": [
    "# **To add a git hub repository to your computer**\n",
    "\n",
    "* go to the repository, click the green clone or download button, and click the keyboard icon to copy the link OR just copy the link to the repository\n",
    "\n",
    "* run in the directory where you want the repository:\n",
    "\n",
    "git clone (repository link)"
   ]
  },
  {
   "cell_type": "markdown",
   "metadata": {},
   "source": [
    "# To add files to a github repo\n",
    "\n",
    "### cd in to repository\n",
    "\n",
    "### git status\n",
    "shows the status of the repository and the files on your computer that are not on github or have been changed since your last commit\n",
    "\n",
    "### git add (file name)\n",
    "adds this file to your next commit, select a few with the * wild card opperator\n",
    "\n",
    "### git commit -m \"Comment describing what you did\"\n",
    "this prepares a commit to be pushed to github. It will display your short comment along with your commit. This should be short and descriptive\n",
    "\n",
    "### git push\n",
    "pushes your commit to github"
   ]
  },
  {
   "cell_type": "markdown",
   "metadata": {},
   "source": [
    "# **To install a package using conda forge**\n",
    "\n",
    "conda config --add channels conda-forge\n",
    "\n",
    "conda config --set channel_priority strict\n",
    "\n",
    "conda install (name of package)"
   ]
  }
 ],
 "metadata": {
  "kernelspec": {
   "display_name": "Python 3",
   "language": "python",
   "name": "python3"
  },
  "language_info": {
   "codemirror_mode": {
    "name": "ipython",
    "version": 3
   },
   "file_extension": ".py",
   "mimetype": "text/x-python",
   "name": "python",
   "nbconvert_exporter": "python",
   "pygments_lexer": "ipython3",
   "version": "3.6.8"
  }
 },
 "nbformat": 4,
 "nbformat_minor": 2
}
