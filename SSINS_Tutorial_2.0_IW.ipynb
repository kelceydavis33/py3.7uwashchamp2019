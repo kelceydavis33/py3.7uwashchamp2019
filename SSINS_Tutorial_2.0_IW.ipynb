{
 "cells": [
  {
   "cell_type": "markdown",
   "metadata": {},
   "source": [
    "# **SSINS Tutorial**\n",
    "Notebook by: Imani Ware \n",
    "\n",
    "Tutorial by: Michael J. Wilensky\n",
    "\n",
    "June 2019\n",
    ">Also check the UVData documentation at https://pyuvdata.readthedocs.io/en/latest/"
   ]
  },
  {
   "cell_type": "markdown",
   "metadata": {},
   "source": [
    "### SS Tutorial"
   ]
  },
  {
   "cell_type": "markdown",
   "metadata": {},
   "source": [
    " **SS:** Initializing an SS object and reading in raw data"
   ]
  },
  {
   "cell_type": "code",
   "execution_count": 1,
   "metadata": {},
   "outputs": [
    {
     "data": {
      "text/plain": [
       "True"
      ]
     },
     "execution_count": 1,
     "metadata": {},
     "output_type": "execute_result"
    }
   ],
   "source": [
    "from SSINS import SS\n",
    "\n",
    "# has all the attributes of the UVData object\n",
    "ss = SS()\n",
    "\n",
    "# visibilities are differenced in time wihtin the read function, and not frequency(hence fft)\n",
    "ss.read('SSINS/data/1061313128_99bl_1pol_half_time.uvfits', ant_str = 'cross')\n",
    "# diff=False always changing the differencing to later but not recommended for most situations\n",
    "\n",
    "# Checks that required parameters exist. Checks that parameters have\n",
    "# appropriate shapes and optionally that the values are acceptable.\n",
    "ss.check()"
   ]
  },
  {
   "cell_type": "markdown",
   "metadata": {},
   "source": [
    "**SS:** Passing keyword arguments to SS.read"
   ]
  },
  {
   "cell_type": "code",
   "execution_count": 2,
   "metadata": {},
   "outputs": [],
   "source": [
    "import numpy as np\n",
    "inpath = 'SSINS/data/1061313128_99bl_1pol_half_time.uvfits'\n",
    "\n",
    "# necessary to reset data_array to empty\n",
    "ss = SS()\n",
    "\n",
    "# reads the file and only reads in metadata of elements from the time_array that we want to look at\n",
    "ss.read(inpath, read_data=False)\n",
    "\n",
    "# time_array attribute (metadata) reading all the data except the first and last integrations\n",
    "times = np.unique(ss.time_array)[1:-1]   #puts the unique values of the ss.time_array and makes an array from all the data except the first and last integrations\n",
    "\n",
    "# read_data=True means all data is read(not just metadata) and times are from the second and second to last element of the unique times_array\n",
    "ss.read(inpath, read_data=True, times=times)"
   ]
  },
  {
   "cell_type": "markdown",
   "metadata": {},
   "source": [
    "**SS:** Applying flags"
   ]
  },
  {
   "cell_type": "code",
   "execution_count": 3,
   "metadata": {},
   "outputs": [
    {
     "name": "stdout",
     "output_type": "stream",
     "text": [
      "original\n"
     ]
    }
   ],
   "source": [
    "# SS.data_array is a numpy masked array. To \"apply flags\" is to change the mask of the data_array.\n",
    "# The proper way to apply flags to the sky-subtracted data is to use the apply_flags method\n",
    "\n",
    "# To apply the original flags in the raw data file, make the following call\n",
    "ss.apply_flags(flag_choice='original')\n",
    "\n",
    "# Note that the original flags are always stored in the flag_array attribute\n",
    "# The flag_choice keyword is stored in an attribute(WHICH ATTRIBUTE??)\n",
    "print(ss.flag_choice)"
   ]
  },
  {
   "cell_type": "code",
   "execution_count": 4,
   "metadata": {},
   "outputs": [
    {
     "name": "stdout",
     "output_type": "stream",
     "text": [
      "custom\n"
     ]
    }
   ],
   "source": [
    "# creates a custom flag array to then use when flagging data a specific way from the SS object\n",
    "# You can apply flags from a custom flag array that is the same shape as the data\n",
    "custom = np.zeros_like(ss.flag_array, dtype=bool) \n",
    "\n",
    "# flagging only the first frequency channel \n",
    "custom[:, 0, 0, :] = True\n",
    "\n",
    "# applying the flags\n",
    "# flags everything in the zeroth (first) freq. channel\n",
    "ss.apply_flags(flag_choice='custom', custom=custom)\n",
    "print(ss.flag_choice)"
   ]
  },
  {
   "cell_type": "code",
   "execution_count": 5,
   "metadata": {},
   "outputs": [
    {
     "name": "stdout",
     "output_type": "stream",
     "text": [
      "False\n"
     ]
    }
   ],
   "source": [
    "# Unflag the data by setting flag_choice=None (note this is actually the default!!)\n",
    "ss.apply_flags(flag_choice=None)\n",
    "\n",
    "# Check if anything is flagged, for demonstration purposes\n",
    "print(np.any(ss.data_array.mask))"
   ]
  },
  {
   "cell_type": "markdown",
   "metadata": {},
   "source": [
    "**SS:** Plotting using Catalog_Plot"
   ]
  },
  {
   "cell_type": "code",
   "execution_count": 6,
   "metadata": {},
   "outputs": [
    {
     "name": "stderr",
     "output_type": "stream",
     "text": [
      "No handles with labels found to put in legend.\n"
     ]
    },
    {
     "name": "stdout",
     "output_type": "stream",
     "text": [
      "True\n"
     ]
    }
   ],
   "source": [
    "from SSINS import Catalog_Plot as cp\n",
    "# python package that allows jupyter notebook to use the standard operating system commands \n",
    "import os    \n",
    "\n",
    "# The Catalog_Plot library contains wrappers around plot_lib functions for basic plotting needs\n",
    "# See the documentation: https://ssins.readthedocs.io/en/latest/Catalog_Plot.html\n",
    "# Each function in Catalog_Plot requires a class instance and a filename prefix as arguments (a suffix is appended by the wrapper)\n",
    "# Whatever unique identifying information for the plot should be specified in the prefix\n",
    "prefix = 'tutorial_outputs/tutorial_'   #prefix for the output file onto which will be attached a tag\n",
    "\n",
    "# To make a Histogram of the Visibility Differences (a VDH, figure 1 of paper), and save it as a pdf, do the following\n",
    "# This also plots a fit estimated from the data\n",
    "# VDH_plot function is from Catalog_Plot\n",
    "cp.VDH_plot(ss, prefix, file_ext='pdf', post_flag=False, xlabel=\"Visibility Differences\", legend=True)\n",
    "\n",
    "# Check to see that the file exists\n",
    "#Wherever there is a %(red), the string, variable, or tuple following the %(purple) will fill in the string into the location(s) of a string\n",
    "print(os.path.exists('%s_VDH.pdf' % (prefix))) \n"
   ]
  },
  {
   "cell_type": "code",
   "execution_count": 7,
   "metadata": {},
   "outputs": [
    {
     "name": "stdout",
     "output_type": "stream",
     "text": [
      "True\n"
     ]
    }
   ],
   "source": [
    "# Let's apply flags and plot the flagged data alongside the unflagged data, without fits\n",
    "# We also want legend labels and a legend\n",
    "ss.apply_flags('original')\n",
    "new_prefix = '%s_flag_unflag_nofits' % prefix\n",
    "cp.VDH_plot(ss, new_prefix, file_ext='pdf', pre_flag=True,post_flag=True, pre_model=False, post_model=False,post_label='Post-Flag Data', pre_label='Pre-Flag Data',legend=True)\n",
    "\n",
    "#checking to see if plot exists\n",
    "print(os.path.exists('%s_VDH.pdf' % (new_prefix)))"
   ]
  },
  {
   "cell_type": "markdown",
   "metadata": {},
   "source": [
    "### INS Tutorial"
   ]
  },
  {
   "cell_type": "markdown",
   "metadata": {},
   "source": [
    "**INS:** Making an INS from SS data"
   ]
  },
  {
   "cell_type": "code",
   "execution_count": 8,
   "metadata": {},
   "outputs": [],
   "source": [
    "from SSINS import INS\n",
    "\n",
    "# This averages the amplitudes of the sky-subtracted data over the baselines, taking into account flags that were applied\n",
    "ins = INS(ss)"
   ]
  },
  {
   "cell_type": "markdown",
   "metadata": {},
   "source": [
    "**INS:** Plotting using Catalog_Plot"
   ]
  },
  {
   "cell_type": "code",
   "execution_count": 9,
   "metadata": {},
   "outputs": [
    {
     "name": "stdout",
     "output_type": "stream",
     "text": [
      "True\n"
     ]
    }
   ],
   "source": [
    "# Plotting INS is similar to plotting a VDH, just with a different function\n",
    "# This plots all polarizations present in the file separately\n",
    "# The first column are the baseline-averaged amplitudes, while the second column shows the mean-subtracted data (z-scores)\n",
    "cp.INS_plot(ins, prefix, file_ext='pdf')\n",
    "print(os.path.exists('%s_SSINS.pdf' % prefix))\n"
   ]
  },
  {
   "cell_type": "code",
   "execution_count": 10,
   "metadata": {},
   "outputs": [
    {
     "name": "stdout",
     "output_type": "stream",
     "text": [
      "True\n"
     ]
    }
   ],
   "source": [
    "# You can specify various plotting nuances with keywords\n",
    "# Let's set some frequency ticks every 50 channels\n",
    "xticks = np.arange(0, len(ins.freq_array), 50)\n",
    "xticklabels = ['%.1f' % (ins.freq_array[tick]* 10 ** (-6)) for tick in xticks]\n",
    "tick_prefix = '%s_ticks' % prefix\n",
    "\n",
    "cp.INS_plot(ins, tick_prefix, file_ext='pdf', xticks=xticks, xticklabels=xticklabels)\n",
    "print(os.path.exists('%s_SSINS.pdf' % tick_prefix))"
   ]
  },
  {
   "cell_type": "markdown",
   "metadata": {},
   "source": [
    "**INS:** Plotting using the plot_lib library"
   ]
  },
  {
   "cell_type": "code",
   "execution_count": 11,
   "metadata": {},
   "outputs": [
    {
     "name": "stdout",
     "output_type": "stream",
     "text": [
      "True\n"
     ]
    }
   ],
   "source": [
    "import matplotlib.pyplot as plt\n",
    "from matplotlib import cm\n",
    "from SSINS import plot_lib\n",
    "\n",
    "# Let's plot the first polarization data and z-scores\n",
    "fig, ax = plt.subplots(nrows=2, figsize=(16, 9))\n",
    "\n",
    "# The averaged amplitudes are stored in the metric_array parameter\n",
    "plot_lib.image_plot(fig, ax[0], ins.metric_array[:, :, 0],title='XX Amplitudes', xticks=xticks,xticklabels=xticklabels)\n",
    "\n",
    "# The z-scores are stored in the metric_ms parameter.\n",
    "# Let's choose a diverging colorbar and center it on zero using the cmap and midpoint keywords.\n",
    "plot_lib.image_plot(fig, ax[1], ins.metric_ms[:, :, 0],title='XX z-scores', xticks=xticks,xticklabels=xticklabels, cmap=cm.coolwarm,midpoint=True)\n",
    "fig.savefig('%s_plot_lib_SSINS.pdf' % prefix)\n",
    "print(os.path.exists('%s_plot_lib_SSINS.pdf' % prefix))"
   ]
  },
  {
   "cell_type": "markdown",
   "metadata": {},
   "source": [
    "**INS:** Saving out and reading in a spectrum"
   ]
  },
  {
   "cell_type": "code",
   "execution_count": 12,
   "metadata": {},
   "outputs": [
    {
     "name": "stdout",
     "output_type": "stream",
     "text": [
      "File tutorial_outputs/tutorial__SSINS_data.h5 exists; clobbering\n",
      "File tutorial_outputs/tutorial__SSINS_z_score.h5 exists; clobbering\n",
      "True\n",
      "True\n"
     ]
    }
   ],
   "source": [
    "# The INS.write method saves out h5 files that can be read both by INS objects and UVFlag objects\n",
    "# By default it saves out the metric_array in the file, z-scores must be saved separately\n",
    "# Set clobber=True to overwrite files with the same prefix (default is False)\n",
    "ins.write(prefix, clobber=True)\n",
    "ins.write(prefix, output_type='z_score', clobber=True)\n",
    "print(os.path.exists('%s_SSINS_data.h5' % prefix))\n",
    "print(os.path.exists('%s_SSINS_z_score.h5' % prefix))\n"
   ]
  },
  {
   "cell_type": "code",
   "execution_count": 13,
   "metadata": {},
   "outputs": [
    {
     "name": "stdout",
     "output_type": "stream",
     "text": [
      "True\n"
     ]
    }
   ],
   "source": [
    "# This file can later be read upon instantiation of a new object\n",
    "# The z-scores will be recalculated on instantiation, so no need to read in the z-scores\n",
    "new_ins = INS('%s_SSINS_data.h5' % prefix)\n",
    "\n",
    "# Check equality\n",
    "print(np.all(ins.metric_array == new_ins.metric_array))"
   ]
  },
  {
   "cell_type": "markdown",
   "metadata": {},
   "source": [
    "### match_filter (MF) Tutorial"
   ]
  },
  {
   "cell_type": "markdown",
   "metadata": {},
   "source": [
    "**MF:** Constructing a filter with no additional sub-bands"
   ]
  },
  {
   "cell_type": "code",
   "execution_count": 14,
   "metadata": {},
   "outputs": [],
   "source": [
    "from SSINS import MF"
   ]
  },
  {
   "cell_type": "code",
   "execution_count": 15,
   "metadata": {},
   "outputs": [],
   "source": [
    "# The MF class requires a frequency array and significance threshold as positional arguments\n",
    "# We will disable searching for broadband streaks and provide no additional sub-bands for the filter\n",
    "mf = MF(ins.freq_array, 5, streak=False)"
   ]
  },
  {
   "cell_type": "markdown",
   "metadata": {},
   "source": [
    "**MF:** Constructing a filter for streaks and Western Australian DTV in MWA EoR Highband"
   ]
  },
  {
   "cell_type": "code",
   "execution_count": null,
   "metadata": {},
   "outputs": [],
   "source": []
  },
  {
   "cell_type": "code",
   "execution_count": null,
   "metadata": {},
   "outputs": [],
   "source": []
  },
  {
   "cell_type": "code",
   "execution_count": null,
   "metadata": {},
   "outputs": [],
   "source": []
  },
  {
   "cell_type": "code",
   "execution_count": null,
   "metadata": {},
   "outputs": [],
   "source": []
  },
  {
   "cell_type": "markdown",
   "metadata": {},
   "source": [
    "### Writing\n",
    "\n",
    "We can write the information from an INS out to h5 files using the write method. There are ***three main data products*** to write out: \n",
    "\n",
    "(1) The baseline averaged visibility difference amplitudes, \n",
    "\n",
    "(2) The z-scores from mean-subtraction, and \n",
    "\n",
    "(3) any mask that may have come from flagging."
   ]
  },
  {
   "cell_type": "markdown",
   "metadata": {},
   "source": [
    "**INS:** Writing the three main data products"
   ]
  },
  {
   "cell_type": "code",
   "execution_count": 16,
   "metadata": {},
   "outputs": [],
   "source": [
    "#prefix = 'SSINS/data/tutorial_'\n",
    "\n",
    "# writing the data\n",
    "ins.write('joy', output_type='data')\n",
    "\n",
    "# writing the z-scores\n",
    "# what are the z-scores?? the magnitude of standard deviation from \n",
    "# the mean of the data (if there are 3.1sigma, the z-score is 3.1)\n",
    "ins.write('job', output_type='z_score')   \n",
    "\n",
    "# We detail how to use the match_filter to flag an INS in the match_filter section\n",
    "# This will apply masks to the data, which we write as follows\n",
    "ins.write('jog', output_type='mask')\n",
    "\n",
    "# We can apply these on read from the output file using the mask_file keyword on init"
   ]
  },
  {
   "cell_type": "markdown",
   "metadata": {},
   "source": [
    "**INS:** Writing time-propagated flags"
   ]
  },
  {
   "cell_type": "code",
   "execution_count": 17,
   "metadata": {},
   "outputs": [
    {
     "name": "stdout",
     "output_type": "stream",
     "text": [
      "<class 'numpy.ma.core.MaskedArray'>\n"
     ]
    }
   ],
   "source": [
    "print(type(ins.metric_array))"
   ]
  },
  {
   "cell_type": "code",
   "execution_count": null,
   "metadata": {},
   "outputs": [],
   "source": []
  }
 ],
 "metadata": {
  "kernelspec": {
   "display_name": "Python 3",
   "language": "python",
   "name": "python3"
  },
  "language_info": {
   "codemirror_mode": {
    "name": "ipython",
    "version": 3
   },
   "file_extension": ".py",
   "mimetype": "text/x-python",
   "name": "python",
   "nbconvert_exporter": "python",
   "pygments_lexer": "ipython3",
   "version": "3.7.1"
  }
 },
 "nbformat": 4,
 "nbformat_minor": 2
}
