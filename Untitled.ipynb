{
 "cells": [
  {
   "cell_type": "code",
   "execution_count": 1,
   "metadata": {},
   "outputs": [
    {
     "ename": "ImportError",
     "evalue": "cannot import name 'UVFlag' from 'pyuvdata' (/Users/imaniware/anaconda3/lib/python3.7/site-packages/pyuvdata/__init__.py)",
     "output_type": "error",
     "traceback": [
      "\u001b[0;31m---------------------------------------------------------------------------\u001b[0m",
      "\u001b[0;31mImportError\u001b[0m                               Traceback (most recent call last)",
      "\u001b[0;32m<ipython-input-1-0ffa07d37592>\u001b[0m in \u001b[0;36m<module>\u001b[0;34m\u001b[0m\n\u001b[1;32m      3\u001b[0m \u001b[0;34m\u001b[0m\u001b[0m\n\u001b[1;32m      4\u001b[0m \u001b[0;31m# import SSINS objects, matplotlib, numpy, and necessary inputs\u001b[0m\u001b[0;34m\u001b[0m\u001b[0;34m\u001b[0m\u001b[0;34m\u001b[0m\u001b[0m\n\u001b[0;32m----> 5\u001b[0;31m \u001b[0;32mfrom\u001b[0m \u001b[0mSSINS\u001b[0m \u001b[0;32mimport\u001b[0m \u001b[0mSS\u001b[0m\u001b[0;34m\u001b[0m\u001b[0;34m\u001b[0m\u001b[0m\n\u001b[0m\u001b[1;32m      6\u001b[0m \u001b[0;31m# from pyuvdata import version\u001b[0m\u001b[0;34m\u001b[0m\u001b[0;34m\u001b[0m\u001b[0;34m\u001b[0m\u001b[0m\n\u001b[1;32m      7\u001b[0m \u001b[0;31m# print(version.version)\u001b[0m\u001b[0;34m\u001b[0m\u001b[0;34m\u001b[0m\u001b[0;34m\u001b[0m\u001b[0m\n",
      "\u001b[0;32m~/Desktop/CHAMP/SSINS/SSINS/__init__.py\u001b[0m in \u001b[0;36m<module>\u001b[0;34m\u001b[0m\n\u001b[1;32m     12\u001b[0m \u001b[0;34m\u001b[0m\u001b[0m\n\u001b[1;32m     13\u001b[0m \u001b[0;32mfrom\u001b[0m \u001b[0;34m.\u001b[0m \u001b[0;32mimport\u001b[0m \u001b[0mversion\u001b[0m\u001b[0;34m\u001b[0m\u001b[0;34m\u001b[0m\u001b[0m\n\u001b[0;32m---> 14\u001b[0;31m \u001b[0;32mfrom\u001b[0m \u001b[0;34m.\u001b[0m\u001b[0mincoherent_noise_spectrum\u001b[0m \u001b[0;32mimport\u001b[0m \u001b[0;34m*\u001b[0m\u001b[0;34m\u001b[0m\u001b[0;34m\u001b[0m\u001b[0m\n\u001b[0m\u001b[1;32m     15\u001b[0m \u001b[0;32mfrom\u001b[0m \u001b[0;34m.\u001b[0m\u001b[0mplot_lib\u001b[0m \u001b[0;32mimport\u001b[0m \u001b[0;34m*\u001b[0m\u001b[0;34m\u001b[0m\u001b[0;34m\u001b[0m\u001b[0m\n\u001b[1;32m     16\u001b[0m \u001b[0;32mfrom\u001b[0m \u001b[0;34m.\u001b[0m\u001b[0mmatch_filter\u001b[0m \u001b[0;32mimport\u001b[0m \u001b[0;34m*\u001b[0m\u001b[0;34m\u001b[0m\u001b[0;34m\u001b[0m\u001b[0m\n",
      "\u001b[0;32m~/Desktop/CHAMP/SSINS/SSINS/incoherent_noise_spectrum.py\u001b[0m in \u001b[0;36m<module>\u001b[0;34m\u001b[0m\n\u001b[1;32m     10\u001b[0m \u001b[0;32mimport\u001b[0m \u001b[0mwarnings\u001b[0m\u001b[0;34m\u001b[0m\u001b[0;34m\u001b[0m\u001b[0m\n\u001b[1;32m     11\u001b[0m \u001b[0;32mimport\u001b[0m \u001b[0mpickle\u001b[0m\u001b[0;34m\u001b[0m\u001b[0;34m\u001b[0m\u001b[0m\n\u001b[0;32m---> 12\u001b[0;31m \u001b[0;32mfrom\u001b[0m \u001b[0mpyuvdata\u001b[0m \u001b[0;32mimport\u001b[0m \u001b[0mUVFlag\u001b[0m\u001b[0;34m\u001b[0m\u001b[0;34m\u001b[0m\u001b[0m\n\u001b[0m\u001b[1;32m     13\u001b[0m \u001b[0;32mimport\u001b[0m \u001b[0myaml\u001b[0m\u001b[0;34m\u001b[0m\u001b[0;34m\u001b[0m\u001b[0m\n\u001b[1;32m     14\u001b[0m \u001b[0;32mfrom\u001b[0m \u001b[0mSSINS\u001b[0m \u001b[0;32mimport\u001b[0m \u001b[0mversion\u001b[0m\u001b[0;34m\u001b[0m\u001b[0;34m\u001b[0m\u001b[0m\n",
      "\u001b[0;31mImportError\u001b[0m: cannot import name 'UVFlag' from 'pyuvdata' (/Users/imaniware/anaconda3/lib/python3.7/site-packages/pyuvdata/__init__.py)"
     ]
    }
   ],
   "source": [
    "# This is a run through of RFI analysis using SSINS Tutorial and uvfits files\n",
    "# Written in python3 by Imani Ware, from SSINS created by Michael J. Wilensky\n",
    "\n",
    "# import SSINS objects, matplotlib, numpy, and necessary inputs\n",
    "from SSINS import SS\n",
    "# from pyuvdata import version\n",
    "# print(version.version)\n",
    "from SSINS import INS\n",
    "import matplotlib as plt\n",
    "import os\n",
    "\n",
    "# Create an SS object and read in uvfits file\n",
    "ss = SS()\n",
    "uvfits_file = '/Users/imaniware/Desktop/CHAMP/hera_uvfits/1061313128.uvfits'\n",
    "ss.read(uvfits_file, ant_str = 'cross')\n",
    "\n",
    "\n",
    "#apply flags to SS data\n",
    "ss.apply_flags(flag_choice = 'original')\n",
    "\n",
    "# Make a VDH plot\n",
    "# import Catalog_Plot from SSINS\n",
    "from SSINS import Catalog_Plot as cp \n",
    "\n",
    "\n",
    "# set a file prefix for plot\n",
    "prefix = 'tutorial_outputs/IW_SSINS_runs_'\n",
    "\n",
    "# Pre-flagged and Post-flagged\n",
    "cp.VDH_plot(ss, prefix, file_ext = 'pdf', xlabel='Visibility Differences', xscale='log', yscale='log', legend=True, ylim=None, density=False, pre_flag=True, post_flag=True, pre_model=True, post_model=True, pre_label='Pre flagging', post_label='Post flagging', pre_model_label= 'Pre Model', post_model_label='Post Model', pre_model_color='green', post_model_color='yellow', pre_color='red', post_color='blue', font_size='medium')\n",
    "\n",
    "\n",
    "# Create an INS object and use uvfits file\n",
    "ins =INS(ss)\n",
    "\n",
    "# Make a INS plot\n",
    "# Pre-flagged and Post-flagged\n",
    "cp.INS_plot(ins, prefix, file_ext='.pdf')"
   ]
  },
  {
   "cell_type": "code",
   "execution_count": 9,
   "metadata": {},
   "outputs": [
    {
     "name": "stdout",
     "output_type": "stream",
     "text": [
      "1.3.7\n"
     ]
    }
   ],
   "source": [
    "from pyuvdata import version\n",
    "print(version.version)"
   ]
  },
  {
   "cell_type": "code",
   "execution_count": null,
   "metadata": {},
   "outputs": [],
   "source": [
    "#conda pyuvdata -V"
   ]
  },
  {
   "cell_type": "code",
   "execution_count": null,
   "metadata": {},
   "outputs": [],
   "source": [
    "\n"
   ]
  },
  {
   "cell_type": "code",
   "execution_count": null,
   "metadata": {},
   "outputs": [],
   "source": []
  }
 ],
 "metadata": {
  "kernelspec": {
   "display_name": "Python 3",
   "language": "python",
   "name": "python3"
  },
  "language_info": {
   "codemirror_mode": {
    "name": "ipython",
    "version": 3
   },
   "file_extension": ".py",
   "mimetype": "text/x-python",
   "name": "python",
   "nbconvert_exporter": "python",
   "pygments_lexer": "ipython3",
   "version": "3.7.3"
  }
 },
 "nbformat": 4,
 "nbformat_minor": 2
}
